{
  "cells": [
    {
      "cell_type": "code",
      "execution_count": 1,
      "id": "929a1e77",
      "metadata": {
        "id": "929a1e77",
        "outputId": "a055689e-d681-4040-a343-d3d66d5e9668",
        "colab": {
          "base_uri": "https://localhost:8080/"
        }
      },
      "outputs": [
        {
          "output_type": "stream",
          "name": "stdout",
          "text": [
            "Collecting otter-grader==3.3.0\n",
            "  Downloading otter_grader-3.3.0-py3-none-any.whl (165 kB)\n",
            "\u001b[2K     \u001b[90m━━━━━━━━━━━━━━━━━━━━━━━━━━━━━━━━━━━━━━━━\u001b[0m \u001b[32m166.0/166.0 kB\u001b[0m \u001b[31m2.5 MB/s\u001b[0m eta \u001b[36m0:00:00\u001b[0m\n",
            "\u001b[?25hRequirement already satisfied: jupyter-client in /usr/local/lib/python3.10/dist-packages (from otter-grader==3.3.0) (6.1.12)\n",
            "Requirement already satisfied: ipykernel in /usr/local/lib/python3.10/dist-packages (from otter-grader==3.3.0) (5.5.6)\n",
            "Requirement already satisfied: matplotlib in /usr/local/lib/python3.10/dist-packages (from otter-grader==3.3.0) (3.7.1)\n",
            "Requirement already satisfied: pandas in /usr/local/lib/python3.10/dist-packages (from otter-grader==3.3.0) (1.5.3)\n",
            "Requirement already satisfied: jinja2 in /usr/local/lib/python3.10/dist-packages (from otter-grader==3.3.0) (3.1.3)\n",
            "Collecting python-on-whales (from otter-grader==3.3.0)\n",
            "  Downloading python_on_whales-0.69.0-py3-none-any.whl (162 kB)\n",
            "\u001b[2K     \u001b[90m━━━━━━━━━━━━━━━━━━━━━━━━━━━━━━━━━━━━━━━━\u001b[0m \u001b[32m162.7/162.7 kB\u001b[0m \u001b[31m17.2 MB/s\u001b[0m eta \u001b[36m0:00:00\u001b[0m\n",
            "\u001b[?25hRequirement already satisfied: requests in /usr/local/lib/python3.10/dist-packages (from otter-grader==3.3.0) (2.31.0)\n",
            "Requirement already satisfied: nbconvert in /usr/local/lib/python3.10/dist-packages (from otter-grader==3.3.0) (6.5.4)\n",
            "Requirement already satisfied: nbformat in /usr/local/lib/python3.10/dist-packages (from otter-grader==3.3.0) (5.9.2)\n",
            "Collecting dill (from otter-grader==3.3.0)\n",
            "  Downloading dill-0.3.8-py3-none-any.whl (116 kB)\n",
            "\u001b[2K     \u001b[90m━━━━━━━━━━━━━━━━━━━━━━━━━━━━━━━━━━━━━━━━\u001b[0m \u001b[32m116.3/116.3 kB\u001b[0m \u001b[31m13.2 MB/s\u001b[0m eta \u001b[36m0:00:00\u001b[0m\n",
            "\u001b[?25hCollecting pdfkit (from otter-grader==3.3.0)\n",
            "  Downloading pdfkit-1.0.0-py3-none-any.whl (12 kB)\n",
            "Collecting PyPDF2 (from otter-grader==3.3.0)\n",
            "  Downloading pypdf2-3.0.1-py3-none-any.whl (232 kB)\n",
            "\u001b[2K     \u001b[90m━━━━━━━━━━━━━━━━━━━━━━━━━━━━━━━━━━━━━━━━\u001b[0m \u001b[32m232.6/232.6 kB\u001b[0m \u001b[31m25.4 MB/s\u001b[0m eta \u001b[36m0:00:00\u001b[0m\n",
            "\u001b[?25hRequirement already satisfied: PyYAML in /usr/local/lib/python3.10/dist-packages (from otter-grader==3.3.0) (6.0.1)\n",
            "Requirement already satisfied: gspread in /usr/local/lib/python3.10/dist-packages (from otter-grader==3.3.0) (3.4.2)\n",
            "Requirement already satisfied: google-auth-oauthlib in /usr/local/lib/python3.10/dist-packages (from otter-grader==3.3.0) (1.2.0)\n",
            "Requirement already satisfied: google-api-python-client in /usr/local/lib/python3.10/dist-packages (from otter-grader==3.3.0) (2.84.0)\n",
            "Requirement already satisfied: six in /usr/local/lib/python3.10/dist-packages (from otter-grader==3.3.0) (1.16.0)\n",
            "Requirement already satisfied: httplib2<1dev,>=0.15.0 in /usr/local/lib/python3.10/dist-packages (from google-api-python-client->otter-grader==3.3.0) (0.22.0)\n",
            "Requirement already satisfied: google-auth<3.0.0dev,>=1.19.0 in /usr/local/lib/python3.10/dist-packages (from google-api-python-client->otter-grader==3.3.0) (2.27.0)\n",
            "Requirement already satisfied: google-auth-httplib2>=0.1.0 in /usr/local/lib/python3.10/dist-packages (from google-api-python-client->otter-grader==3.3.0) (0.1.1)\n",
            "Requirement already satisfied: google-api-core!=2.0.*,!=2.1.*,!=2.2.*,!=2.3.0,<3.0.0dev,>=1.31.5 in /usr/local/lib/python3.10/dist-packages (from google-api-python-client->otter-grader==3.3.0) (2.11.1)\n",
            "Requirement already satisfied: uritemplate<5,>=3.0.1 in /usr/local/lib/python3.10/dist-packages (from google-api-python-client->otter-grader==3.3.0) (4.1.1)\n",
            "Requirement already satisfied: requests-oauthlib>=0.7.0 in /usr/local/lib/python3.10/dist-packages (from google-auth-oauthlib->otter-grader==3.3.0) (1.3.1)\n",
            "Requirement already satisfied: charset-normalizer<4,>=2 in /usr/local/lib/python3.10/dist-packages (from requests->otter-grader==3.3.0) (3.3.2)\n",
            "Requirement already satisfied: idna<4,>=2.5 in /usr/local/lib/python3.10/dist-packages (from requests->otter-grader==3.3.0) (3.6)\n",
            "Requirement already satisfied: urllib3<3,>=1.21.1 in /usr/local/lib/python3.10/dist-packages (from requests->otter-grader==3.3.0) (2.0.7)\n",
            "Requirement already satisfied: certifi>=2017.4.17 in /usr/local/lib/python3.10/dist-packages (from requests->otter-grader==3.3.0) (2024.2.2)\n",
            "Requirement already satisfied: ipython-genutils in /usr/local/lib/python3.10/dist-packages (from ipykernel->otter-grader==3.3.0) (0.2.0)\n",
            "Requirement already satisfied: ipython>=5.0.0 in /usr/local/lib/python3.10/dist-packages (from ipykernel->otter-grader==3.3.0) (7.34.0)\n",
            "Requirement already satisfied: traitlets>=4.1.0 in /usr/local/lib/python3.10/dist-packages (from ipykernel->otter-grader==3.3.0) (5.7.1)\n",
            "Requirement already satisfied: tornado>=4.2 in /usr/local/lib/python3.10/dist-packages (from ipykernel->otter-grader==3.3.0) (6.3.2)\n",
            "Requirement already satisfied: MarkupSafe>=2.0 in /usr/local/lib/python3.10/dist-packages (from jinja2->otter-grader==3.3.0) (2.1.5)\n",
            "Requirement already satisfied: jupyter-core>=4.6.0 in /usr/local/lib/python3.10/dist-packages (from jupyter-client->otter-grader==3.3.0) (5.7.1)\n",
            "Requirement already satisfied: pyzmq>=13 in /usr/local/lib/python3.10/dist-packages (from jupyter-client->otter-grader==3.3.0) (23.2.1)\n",
            "Requirement already satisfied: python-dateutil>=2.1 in /usr/local/lib/python3.10/dist-packages (from jupyter-client->otter-grader==3.3.0) (2.8.2)\n",
            "Requirement already satisfied: contourpy>=1.0.1 in /usr/local/lib/python3.10/dist-packages (from matplotlib->otter-grader==3.3.0) (1.2.0)\n",
            "Requirement already satisfied: cycler>=0.10 in /usr/local/lib/python3.10/dist-packages (from matplotlib->otter-grader==3.3.0) (0.12.1)\n",
            "Requirement already satisfied: fonttools>=4.22.0 in /usr/local/lib/python3.10/dist-packages (from matplotlib->otter-grader==3.3.0) (4.49.0)\n",
            "Requirement already satisfied: kiwisolver>=1.0.1 in /usr/local/lib/python3.10/dist-packages (from matplotlib->otter-grader==3.3.0) (1.4.5)\n",
            "Requirement already satisfied: numpy>=1.20 in /usr/local/lib/python3.10/dist-packages (from matplotlib->otter-grader==3.3.0) (1.25.2)\n",
            "Requirement already satisfied: packaging>=20.0 in /usr/local/lib/python3.10/dist-packages (from matplotlib->otter-grader==3.3.0) (23.2)\n",
            "Requirement already satisfied: pillow>=6.2.0 in /usr/local/lib/python3.10/dist-packages (from matplotlib->otter-grader==3.3.0) (9.4.0)\n",
            "Requirement already satisfied: pyparsing>=2.3.1 in /usr/local/lib/python3.10/dist-packages (from matplotlib->otter-grader==3.3.0) (3.1.1)\n",
            "Requirement already satisfied: lxml in /usr/local/lib/python3.10/dist-packages (from nbconvert->otter-grader==3.3.0) (4.9.4)\n",
            "Requirement already satisfied: beautifulsoup4 in /usr/local/lib/python3.10/dist-packages (from nbconvert->otter-grader==3.3.0) (4.12.3)\n",
            "Requirement already satisfied: bleach in /usr/local/lib/python3.10/dist-packages (from nbconvert->otter-grader==3.3.0) (6.1.0)\n",
            "Requirement already satisfied: defusedxml in /usr/local/lib/python3.10/dist-packages (from nbconvert->otter-grader==3.3.0) (0.7.1)\n",
            "Requirement already satisfied: entrypoints>=0.2.2 in /usr/local/lib/python3.10/dist-packages (from nbconvert->otter-grader==3.3.0) (0.4)\n",
            "Requirement already satisfied: jupyterlab-pygments in /usr/local/lib/python3.10/dist-packages (from nbconvert->otter-grader==3.3.0) (0.3.0)\n",
            "Requirement already satisfied: mistune<2,>=0.8.1 in /usr/local/lib/python3.10/dist-packages (from nbconvert->otter-grader==3.3.0) (0.8.4)\n",
            "Requirement already satisfied: nbclient>=0.5.0 in /usr/local/lib/python3.10/dist-packages (from nbconvert->otter-grader==3.3.0) (0.9.0)\n",
            "Requirement already satisfied: pandocfilters>=1.4.1 in /usr/local/lib/python3.10/dist-packages (from nbconvert->otter-grader==3.3.0) (1.5.1)\n",
            "Requirement already satisfied: pygments>=2.4.1 in /usr/local/lib/python3.10/dist-packages (from nbconvert->otter-grader==3.3.0) (2.16.1)\n",
            "Requirement already satisfied: tinycss2 in /usr/local/lib/python3.10/dist-packages (from nbconvert->otter-grader==3.3.0) (1.2.1)\n",
            "Requirement already satisfied: fastjsonschema in /usr/local/lib/python3.10/dist-packages (from nbformat->otter-grader==3.3.0) (2.19.1)\n",
            "Requirement already satisfied: jsonschema>=2.6 in /usr/local/lib/python3.10/dist-packages (from nbformat->otter-grader==3.3.0) (4.19.2)\n",
            "Requirement already satisfied: pytz>=2020.1 in /usr/local/lib/python3.10/dist-packages (from pandas->otter-grader==3.3.0) (2023.4)\n",
            "Requirement already satisfied: pydantic!=2.0.*,<3,>=1.9 in /usr/local/lib/python3.10/dist-packages (from python-on-whales->otter-grader==3.3.0) (2.6.3)\n",
            "Requirement already satisfied: tqdm in /usr/local/lib/python3.10/dist-packages (from python-on-whales->otter-grader==3.3.0) (4.66.2)\n",
            "Requirement already satisfied: typer>=0.4.1 in /usr/local/lib/python3.10/dist-packages (from python-on-whales->otter-grader==3.3.0) (0.9.0)\n",
            "Requirement already satisfied: typing-extensions in /usr/local/lib/python3.10/dist-packages (from python-on-whales->otter-grader==3.3.0) (4.10.0)\n",
            "Requirement already satisfied: googleapis-common-protos<2.0.dev0,>=1.56.2 in /usr/local/lib/python3.10/dist-packages (from google-api-core!=2.0.*,!=2.1.*,!=2.2.*,!=2.3.0,<3.0.0dev,>=1.31.5->google-api-python-client->otter-grader==3.3.0) (1.62.0)\n",
            "Requirement already satisfied: protobuf!=3.20.0,!=3.20.1,!=4.21.0,!=4.21.1,!=4.21.2,!=4.21.3,!=4.21.4,!=4.21.5,<5.0.0.dev0,>=3.19.5 in /usr/local/lib/python3.10/dist-packages (from google-api-core!=2.0.*,!=2.1.*,!=2.2.*,!=2.3.0,<3.0.0dev,>=1.31.5->google-api-python-client->otter-grader==3.3.0) (3.20.3)\n",
            "Requirement already satisfied: cachetools<6.0,>=2.0.0 in /usr/local/lib/python3.10/dist-packages (from google-auth<3.0.0dev,>=1.19.0->google-api-python-client->otter-grader==3.3.0) (5.3.3)\n",
            "Requirement already satisfied: pyasn1-modules>=0.2.1 in /usr/local/lib/python3.10/dist-packages (from google-auth<3.0.0dev,>=1.19.0->google-api-python-client->otter-grader==3.3.0) (0.3.0)\n",
            "Requirement already satisfied: rsa<5,>=3.1.4 in /usr/local/lib/python3.10/dist-packages (from google-auth<3.0.0dev,>=1.19.0->google-api-python-client->otter-grader==3.3.0) (4.9)\n",
            "Requirement already satisfied: setuptools>=18.5 in /usr/local/lib/python3.10/dist-packages (from ipython>=5.0.0->ipykernel->otter-grader==3.3.0) (67.7.2)\n",
            "Collecting jedi>=0.16 (from ipython>=5.0.0->ipykernel->otter-grader==3.3.0)\n",
            "  Downloading jedi-0.19.1-py2.py3-none-any.whl (1.6 MB)\n",
            "\u001b[2K     \u001b[90m━━━━━━━━━━━━━━━━━━━━━━━━━━━━━━━━━━━━━━━━\u001b[0m \u001b[32m1.6/1.6 MB\u001b[0m \u001b[31m34.6 MB/s\u001b[0m eta \u001b[36m0:00:00\u001b[0m\n",
            "\u001b[?25hRequirement already satisfied: decorator in /usr/local/lib/python3.10/dist-packages (from ipython>=5.0.0->ipykernel->otter-grader==3.3.0) (4.4.2)\n",
            "Requirement already satisfied: pickleshare in /usr/local/lib/python3.10/dist-packages (from ipython>=5.0.0->ipykernel->otter-grader==3.3.0) (0.7.5)\n",
            "Requirement already satisfied: prompt-toolkit!=3.0.0,!=3.0.1,<3.1.0,>=2.0.0 in /usr/local/lib/python3.10/dist-packages (from ipython>=5.0.0->ipykernel->otter-grader==3.3.0) (3.0.43)\n",
            "Requirement already satisfied: backcall in /usr/local/lib/python3.10/dist-packages (from ipython>=5.0.0->ipykernel->otter-grader==3.3.0) (0.2.0)\n",
            "Requirement already satisfied: matplotlib-inline in /usr/local/lib/python3.10/dist-packages (from ipython>=5.0.0->ipykernel->otter-grader==3.3.0) (0.1.6)\n",
            "Requirement already satisfied: pexpect>4.3 in /usr/local/lib/python3.10/dist-packages (from ipython>=5.0.0->ipykernel->otter-grader==3.3.0) (4.9.0)\n",
            "Requirement already satisfied: attrs>=22.2.0 in /usr/local/lib/python3.10/dist-packages (from jsonschema>=2.6->nbformat->otter-grader==3.3.0) (23.2.0)\n",
            "Requirement already satisfied: jsonschema-specifications>=2023.03.6 in /usr/local/lib/python3.10/dist-packages (from jsonschema>=2.6->nbformat->otter-grader==3.3.0) (2023.12.1)\n",
            "Requirement already satisfied: referencing>=0.28.4 in /usr/local/lib/python3.10/dist-packages (from jsonschema>=2.6->nbformat->otter-grader==3.3.0) (0.33.0)\n",
            "Requirement already satisfied: rpds-py>=0.7.1 in /usr/local/lib/python3.10/dist-packages (from jsonschema>=2.6->nbformat->otter-grader==3.3.0) (0.18.0)\n",
            "Requirement already satisfied: platformdirs>=2.5 in /usr/local/lib/python3.10/dist-packages (from jupyter-core>=4.6.0->jupyter-client->otter-grader==3.3.0) (4.2.0)\n",
            "Requirement already satisfied: annotated-types>=0.4.0 in /usr/local/lib/python3.10/dist-packages (from pydantic!=2.0.*,<3,>=1.9->python-on-whales->otter-grader==3.3.0) (0.6.0)\n",
            "Requirement already satisfied: pydantic-core==2.16.3 in /usr/local/lib/python3.10/dist-packages (from pydantic!=2.0.*,<3,>=1.9->python-on-whales->otter-grader==3.3.0) (2.16.3)\n",
            "Requirement already satisfied: oauthlib>=3.0.0 in /usr/local/lib/python3.10/dist-packages (from requests-oauthlib>=0.7.0->google-auth-oauthlib->otter-grader==3.3.0) (3.2.2)\n",
            "Requirement already satisfied: click<9.0.0,>=7.1.1 in /usr/local/lib/python3.10/dist-packages (from typer>=0.4.1->python-on-whales->otter-grader==3.3.0) (8.1.7)\n",
            "Requirement already satisfied: soupsieve>1.2 in /usr/local/lib/python3.10/dist-packages (from beautifulsoup4->nbconvert->otter-grader==3.3.0) (2.5)\n",
            "Requirement already satisfied: webencodings in /usr/local/lib/python3.10/dist-packages (from bleach->nbconvert->otter-grader==3.3.0) (0.5.1)\n",
            "Requirement already satisfied: parso<0.9.0,>=0.8.3 in /usr/local/lib/python3.10/dist-packages (from jedi>=0.16->ipython>=5.0.0->ipykernel->otter-grader==3.3.0) (0.8.3)\n",
            "Requirement already satisfied: ptyprocess>=0.5 in /usr/local/lib/python3.10/dist-packages (from pexpect>4.3->ipython>=5.0.0->ipykernel->otter-grader==3.3.0) (0.7.0)\n",
            "Requirement already satisfied: wcwidth in /usr/local/lib/python3.10/dist-packages (from prompt-toolkit!=3.0.0,!=3.0.1,<3.1.0,>=2.0.0->ipython>=5.0.0->ipykernel->otter-grader==3.3.0) (0.2.13)\n",
            "Requirement already satisfied: pyasn1<0.6.0,>=0.4.6 in /usr/local/lib/python3.10/dist-packages (from pyasn1-modules>=0.2.1->google-auth<3.0.0dev,>=1.19.0->google-api-python-client->otter-grader==3.3.0) (0.5.1)\n",
            "Installing collected packages: pdfkit, PyPDF2, jedi, dill, python-on-whales, otter-grader\n",
            "Successfully installed PyPDF2-3.0.1 dill-0.3.8 jedi-0.19.1 otter-grader-3.3.0 pdfkit-1.0.0 python-on-whales-0.69.0\n"
          ]
        }
      ],
      "source": [
        "# # Mount Google Drive\n",
        "# from google.colab import drive\n",
        "# drive.mount('/content/gdrive', force_remount=True)\n",
        "# %cd /content/gdrive/MyDrive/Colab Notebooks/partner_project_spring2024\n",
        "%pip install otter-grader==3.3.0"
      ]
    },
    {
      "cell_type": "code",
      "execution_count": 8,
      "id": "e8a9a85c",
      "metadata": {
        "deletable": false,
        "editable": false,
        "id": "e8a9a85c",
        "outputId": "86f19eb6-e8de-4902-ba76-a52080895493",
        "colab": {
          "base_uri": "https://localhost:8080/"
        }
      },
      "outputs": [
        {
          "output_type": "stream",
          "name": "stdout",
          "text": [
            "['.dockerenv', 'NGC-DL-CONTAINER-LICENSE', 'cuda-keyring_1.0-1_all.deb']\n"
          ]
        }
      ],
      "source": [
        "# Initialize Otter\n",
        "import otter\n",
        "from os import listdir\n",
        "from os.path import isfile, join\n",
        "onlyfiles = [f for f in listdir(\"../..\") if isfile(join(\"../..\", f))]\n",
        "print(onlyfiles)\n",
        "# grader = otter.Notebook(\"project1.ipynb\")"
      ]
    },
    {
      "cell_type": "markdown",
      "id": "98ff3e13",
      "metadata": {
        "id": "98ff3e13"
      },
      "source": [
        "# Project 1: World Progress"
      ]
    },
    {
      "cell_type": "markdown",
      "id": "42dc5542",
      "metadata": {
        "id": "42dc5542"
      },
      "source": [
        "In this project, you'll explore data from [Gapminder.org](http://gapminder.org), a website dedicated to providing a fact-based view of the world and how it has changed. That site includes several data visualizations and presentations, but also publishes the raw data that we will use in this project to recreate and extend some of their most famous visualizations.\n",
        "\n",
        "The Gapminder website collects data from many sources and compiles them into tables that describe many countries around the world. All of the data they aggregate are published in the [Systema Globalis](https://github.com/open-numbers/ddf--gapminder--systema_globalis/blob/master/README.md). Their goal is \"to compile all public statistics; Social, Economic and Environmental; into a comparable total dataset.\" All data sets in this project are copied directly from the Systema Globalis without any changes.\n",
        "\n",
        "This project is dedicated to [Hans Rosling](https://en.wikipedia.org/wiki/Hans_Rosling) (1948-2017), who championed the use of data to understand and prioritize global development challenges."
      ]
    },
    {
      "cell_type": "markdown",
      "id": "646eb062",
      "metadata": {
        "id": "646eb062"
      },
      "source": [
        "### Logistics\n",
        "\n",
        "**Rules.** This project is to be completed with partner. You are welcome to discuss questions with other students, but don't share the answers.\n",
        "\n",
        "**Tests.** The tests that are given are **not comprehensive** and passing the tests for a question **does not** mean that you answered the question correctly. Tests usually only check that your table has the correct column labels. However, more tests will be applied to verify the correctness of your submission in order to assign your final score, so be careful and check your work! You might want to create your own checks along the way to see if your answers make sense. Additionally, before you submit, make sure that none of your cells take a very long time to run (several minutes).\n",
        "\n",
        "**Free Response Questions:** Make sure that you put the answers to the written questions in the indicated cell we provide. **Every free response question should include an explanation** that adequately answers the question.\n",
        "\n",
        "**Advice.** Develop your answers incrementally. To perform a complicated table manipulation, break it up into steps, perform each step on a different line, give a new name to each result, and check that each intermediate result is what you expect. You can add any additional names or functions you want to the provided cells. Make sure that you are using distinct and meaningful variable names throughout the notebook. Along that line, **DO NOT** reuse the variable names that we use when we grade your answers. For example, in Question 1 of the Global Poverty section we ask you to assign an answer to `latest`. Do not reassign the variable name `latest` to anything else in your notebook, otherwise there is the chance that our tests grade against what `latest` was reassigned to.\n",
        "\n",
        "You **never** have to use just one line in this project or any others. Use intermediate variables and multiple lines as much as you would like!\n",
        "\n",
        "---\n",
        "\n",
        "To get started, load `datascience`, `numpy`, `plots`, and `otter`."
      ]
    },
    {
      "cell_type": "code",
      "execution_count": null,
      "id": "9295abc0",
      "metadata": {
        "deletable": false,
        "execution": {
          "iopub.execute_input": "2022-02-11T21:38:16.251971Z",
          "iopub.status.busy": "2022-02-11T21:38:16.249609Z",
          "iopub.status.idle": "2022-02-11T21:38:17.678984Z",
          "shell.execute_reply": "2022-02-11T21:38:17.679392Z"
        },
        "id": "9295abc0"
      },
      "outputs": [],
      "source": [
        "# Run this cell to set up the notebook, but please don't change it.\n",
        "\n",
        "# These lines import the NumPy and Datascience modules.\n",
        "from datascience import *\n",
        "import numpy as np\n",
        "\n",
        "# These lines do some fancy plotting magic.\n",
        "%matplotlib inline\n",
        "import matplotlib.pyplot as plots\n",
        "plots.style.use('fivethirtyeight')\n",
        "\n",
        "from ipywidgets import interact, interactive, fixed, interact_manual\n",
        "import ipywidgets as widgets\n",
        "\n",
        "import d8error"
      ]
    },
    {
      "cell_type": "markdown",
      "id": "c7b1a3c5",
      "metadata": {
        "deletable": false,
        "editable": false,
        "id": "c7b1a3c5"
      },
      "source": [
        "## 1. Global Population Growth"
      ]
    },
    {
      "cell_type": "markdown",
      "id": "0bd784c4",
      "metadata": {
        "deletable": false,
        "editable": false,
        "id": "0bd784c4"
      },
      "source": [
        "The global population of humans reached 1 billion around 1800, 3 billion around 1960, and 7 billion around 2011. The potential impact of exponential population growth has concerned scientists, economists, and politicians alike.\n",
        "\n",
        "The UN Population Division estimates that the world population will likely continue to grow throughout the 21st century, but at a slower rate, perhaps reaching 11 billion by 2100. However, the UN does not rule out scenarios of more extreme growth.\n",
        "\n",
        "<a href=\"http://www.pewresearch.org/fact-tank/2015/06/08/scientists-more-worried-than-public-about-worlds-growing-population/ft_15-06-04_popcount/\">\n",
        " <img src=\"https://github.com/mileskent/CIS151PartnerProject1/blob/main/pew_population_projection.png?raw=1\"/>\n",
        "</a>\n",
        "\n",
        "In this part of the project, we will examine some of the factors that influence population growth and how they have been changing over the years and around the world. There are two main sub-parts of this analysis.\n",
        "\n",
        "- First, we will examine the data for one country, Bangladesh. We will see how factors such as life expectancy, fertility rate, and child mortality have changed over time in Bangladesh, and how they are related to the rate of population growth.\n",
        "- Next, we will examine whether the changes we have observed for Bangladesh are particular to that country or whether they reflect general patterns observable in other countries too. We will study aspects of world population growth and see how they have been changing.\n",
        "\n",
        "The first table we will consider contains the total population of each country over time. Run the cell below."
      ]
    },
    {
      "cell_type": "code",
      "execution_count": null,
      "id": "00575372",
      "metadata": {
        "deletable": false,
        "execution": {
          "iopub.execute_input": "2022-02-11T21:38:17.685033Z",
          "iopub.status.busy": "2022-02-11T21:38:17.684498Z",
          "iopub.status.idle": "2022-02-11T21:38:17.774102Z",
          "shell.execute_reply": "2022-02-11T21:38:17.773689Z"
        },
        "scrolled": true,
        "id": "00575372"
      },
      "outputs": [],
      "source": [
        "population = Table.read_table('population.csv').where(\"time\", are.below(2021))\n",
        "population.show(3)"
      ]
    },
    {
      "cell_type": "markdown",
      "id": "5b31e3be",
      "metadata": {
        "id": "5b31e3be"
      },
      "source": [
        "**Note:** The population csv file can also be found [here](https://github.com/open-numbers/ddf--gapminder--systema_globalis/blob/master/countries-etc-datapoints/ddf--datapoints--population_total--by--geo--time.csv). The data for this project was downloaded in February 2017."
      ]
    },
    {
      "cell_type": "markdown",
      "id": "6a6b58a7",
      "metadata": {
        "deletable": false,
        "id": "6a6b58a7"
      },
      "source": [
        "### Bangladesh\n",
        "\n",
        "The nation of [Bangladesh](https://en.wikipedia.org/wiki/Bangladesh#People's_Republic_of_Bangladesh) was established as a parliamentary democracy after the Bangladesh Liberation War ended in 1971. The war-ravaged fledgling nation was almost immediately faced with floods and famine. In this section of the project, we will examine aspects of the development of Bangladesh since that time.\n",
        "\n",
        "In the `population` table, the `geo` column contains three-letter codes established by the [International Organization for Standardization](https://en.wikipedia.org/wiki/International_Organization_for_Standardization) (ISO) in the [Alpha-3](https://en.wikipedia.org/wiki/ISO_3166-1_alpha-3#Current_codes) standard. We will begin by taking a close look at Bangladesh. Use the Alpha-3 link to find the 3-letter code for Bangladesh."
      ]
    },
    {
      "cell_type": "markdown",
      "id": "79388d44",
      "metadata": {
        "deletable": false,
        "editable": false,
        "id": "79388d44"
      },
      "source": [
        "**Question 1.** Create a table called `b_pop` that has two columns labeled `time` and `population_total`. The first column should contain the years from 1970 through 2020 (including both 1970 and 2020) and the second should contain the population of Bangladesh in each of those years.\n",
        "\n",
        "<!--\n",
        "BEGIN QUESTION\n",
        "name: q1_1\n",
        "points:\n",
        "- 0\n",
        "- 0\n",
        "- 0\n",
        "- 4\n",
        "-->"
      ]
    },
    {
      "cell_type": "code",
      "execution_count": null,
      "id": "3ba0be5c",
      "metadata": {
        "deletable": false,
        "execution": {
          "iopub.execute_input": "2022-02-11T21:38:17.792141Z",
          "iopub.status.busy": "2022-02-11T21:38:17.781750Z",
          "iopub.status.idle": "2022-02-11T21:38:17.828636Z",
          "shell.execute_reply": "2022-02-11T21:38:17.828177Z"
        },
        "id": "3ba0be5c"
      },
      "outputs": [],
      "source": [
        "b_pop = ...\n",
        "b_pop"
      ]
    },
    {
      "cell_type": "code",
      "execution_count": null,
      "id": "b5040c75",
      "metadata": {
        "deletable": false,
        "editable": false,
        "id": "b5040c75"
      },
      "outputs": [],
      "source": [
        "grader.check(\"q1_1\")"
      ]
    },
    {
      "cell_type": "markdown",
      "id": "a79c560e",
      "metadata": {
        "deletable": false,
        "id": "a79c560e"
      },
      "source": [
        "Run the following cell to create a table called `b_five` that has the population of Bangladesh every five years. At a glance, it appears that the population of Bangladesh has been growing quickly indeed!"
      ]
    },
    {
      "cell_type": "code",
      "execution_count": null,
      "id": "07dfc200",
      "metadata": {
        "deletable": false,
        "execution": {
          "iopub.execute_input": "2022-02-11T21:38:17.863538Z",
          "iopub.status.busy": "2022-02-11T21:38:17.863100Z",
          "iopub.status.idle": "2022-02-11T21:38:17.865550Z",
          "shell.execute_reply": "2022-02-11T21:38:17.865936Z"
        },
        "id": "07dfc200"
      },
      "outputs": [],
      "source": [
        "b_pop.set_format('population_total', NumberFormatter)\n",
        "\n",
        "fives = np.arange(1970, 2021, 5) # 1970, 1975, 1980, ...\n",
        "b_five = b_pop.sort('time').where('time', are.contained_in(fives))\n",
        "b_five.show()"
      ]
    },
    {
      "cell_type": "markdown",
      "id": "7999af52",
      "metadata": {
        "deletable": false,
        "editable": false,
        "id": "7999af52"
      },
      "source": [
        "**Question 2.** Assign `initial` to an array that contains the population for every five year interval from 1970 to 2015 (inclusive). Then, assign `changed` to an array that contains the population for every five year interval from 1975 to 2020 (inclusive). The first array should include both 1970 and 2015, and the second array should include both 1975 and 2020. You should use the `b_five` table to create both arrays, by first filtering the table to only contain the relevant years.\n",
        "\n",
        "The annual growth rate for a time period is equal to:\n",
        "\n",
        "$$\\left(\\left(\\frac{\\text{Population at end of period}}{\\text{Population at start of period}}\\right)^{\\displaystyle\\frac{1}{\\text{number of years}}}\\right) -1$$\n",
        "\n",
        "We have provided the code below that uses  `initial` and `changed` in order to add a column to `b_five` called `annual_growth`. Don't worry about the calculation of the growth rates; run the test below to test your solution.\n",
        "\n",
        "If you are interested in how we came up with the formula for growth rates, consult the [growth rates](https://inferentialthinking.com/chapters/03/2/1/Growth.html) section of the textbook.\n",
        "\n",
        "<!--\n",
        "BEGIN QUESTION\n",
        "name: q1_2\n",
        "points:\n",
        "- 0\n",
        "- 0\n",
        "- 0\n",
        "- 0\n",
        "- 0\n",
        "- 4\n",
        "-->"
      ]
    },
    {
      "cell_type": "code",
      "execution_count": null,
      "id": "3b8fce0d",
      "metadata": {
        "execution": {
          "iopub.execute_input": "2022-02-11T21:38:17.872726Z",
          "iopub.status.busy": "2022-02-11T21:38:17.872028Z",
          "iopub.status.idle": "2022-02-11T21:38:17.875381Z",
          "shell.execute_reply": "2022-02-11T21:38:17.874904Z"
        },
        "id": "3b8fce0d"
      },
      "outputs": [],
      "source": [
        "initial = ...\n",
        "changed = ...\n",
        "\n",
        "b_1970_through_2015 = b_five.where('time', are.below_or_equal_to(2015))\n",
        "b_five_growth = b_1970_through_2015.with_column('annual_growth', (changed/initial)**0.2-1)\n",
        "b_five_growth.set_format('annual_growth', PercentFormatter)"
      ]
    },
    {
      "cell_type": "code",
      "execution_count": null,
      "id": "37a3bef3",
      "metadata": {
        "deletable": false,
        "editable": false,
        "id": "37a3bef3"
      },
      "outputs": [],
      "source": [
        "grader.check(\"q1_2\")"
      ]
    },
    {
      "cell_type": "markdown",
      "id": "7b67fced",
      "metadata": {
        "deletable": false,
        "id": "7b67fced"
      },
      "source": [
        "While the population has grown every five years since 1970, the annual growth rate decreased dramatically from 1985 to 2015. Let's look at some other information in order to develop a possible explanation. Run the next cell to load three additional tables of measurements about countries over time."
      ]
    },
    {
      "cell_type": "code",
      "execution_count": null,
      "id": "16cf83b7",
      "metadata": {
        "deletable": false,
        "execution": {
          "iopub.execute_input": "2022-02-11T21:38:17.952202Z",
          "iopub.status.busy": "2022-02-11T21:38:17.951421Z",
          "iopub.status.idle": "2022-02-11T21:38:18.218513Z",
          "shell.execute_reply": "2022-02-11T21:38:18.218989Z"
        },
        "id": "16cf83b7"
      },
      "outputs": [],
      "source": [
        "life_expectancy = Table.read_table('life_expectancy.csv').where('time', are.below(2021))\n",
        "child_mortality = Table.read_table('child_mortality.csv').relabel(2, 'child_mortality_under_5_per_1000_born').where('time', are.below(2021))\n",
        "fertility = Table.read_table('fertility.csv').where('time', are.below(2021))"
      ]
    },
    {
      "cell_type": "markdown",
      "id": "a505b9b6",
      "metadata": {
        "deletable": false,
        "editable": false,
        "id": "a505b9b6"
      },
      "source": [
        "The `life_expectancy` table contains a statistic that is often used to measure how long people live, called *life expectancy at birth*. This number, for a country in a given year, [does not measure how long babies born in that year are expected to live](http://blogs.worldbank.org/opendata/what-does-life-expectancy-birth-really-mean). Instead, it measures how long someone would live, on average, if the *mortality conditions* in that year persisted throughout their lifetime. These \"mortality conditions\" describe what fraction of people at each age survived the year. So, it is a way of measuring the proportion of people that are staying alive, aggregated over different age groups in the population."
      ]
    },
    {
      "cell_type": "markdown",
      "id": "aa08f50d",
      "metadata": {
        "id": "aa08f50d"
      },
      "source": [
        "Run the following cells below to see `life_expectancy`, `child_mortality`, and `fertility`. Refer back to these tables as they will be helpful for answering further questions!"
      ]
    },
    {
      "cell_type": "code",
      "execution_count": null,
      "id": "1ff5950c",
      "metadata": {
        "execution": {
          "iopub.execute_input": "2022-02-11T21:38:18.223787Z",
          "iopub.status.busy": "2022-02-11T21:38:18.223236Z",
          "iopub.status.idle": "2022-02-11T21:38:18.226450Z",
          "shell.execute_reply": "2022-02-11T21:38:18.226063Z"
        },
        "id": "1ff5950c"
      },
      "outputs": [],
      "source": [
        "life_expectancy.show(3)"
      ]
    },
    {
      "cell_type": "code",
      "execution_count": null,
      "id": "da8d9051",
      "metadata": {
        "execution": {
          "iopub.execute_input": "2022-02-11T21:38:18.230571Z",
          "iopub.status.busy": "2022-02-11T21:38:18.228636Z",
          "iopub.status.idle": "2022-02-11T21:38:18.238314Z",
          "shell.execute_reply": "2022-02-11T21:38:18.237947Z"
        },
        "id": "da8d9051"
      },
      "outputs": [],
      "source": [
        "child_mortality.show(3)"
      ]
    },
    {
      "cell_type": "code",
      "execution_count": null,
      "id": "f2eb430c",
      "metadata": {
        "execution": {
          "iopub.execute_input": "2022-02-11T21:38:18.242617Z",
          "iopub.status.busy": "2022-02-11T21:38:18.242109Z",
          "iopub.status.idle": "2022-02-11T21:38:18.245124Z",
          "shell.execute_reply": "2022-02-11T21:38:18.244625Z"
        },
        "id": "f2eb430c"
      },
      "outputs": [],
      "source": [
        "fertility.show(3)"
      ]
    },
    {
      "cell_type": "markdown",
      "id": "87d0cde1",
      "metadata": {
        "deletable": false,
        "editable": false,
        "id": "87d0cde1"
      },
      "source": [
        "<!-- BEGIN QUESTION -->\n",
        "\n",
        "**Question 3.** Perhaps population is growing more slowly because people aren't living as long. Use the `life_expectancy` table to draw a line graph with the years 1970 and later on the horizontal axis that shows how the *life expectancy at birth* has changed in Bangladesh.\n",
        "\n",
        "<!--\n",
        "BEGIN QUESTION\n",
        "name: q1_3\n",
        "manual: True\n",
        "-->"
      ]
    },
    {
      "cell_type": "code",
      "execution_count": null,
      "id": "66a7cffe",
      "metadata": {
        "deletable": false,
        "execution": {
          "iopub.execute_input": "2022-02-11T21:38:18.291834Z",
          "iopub.status.busy": "2022-02-11T21:38:18.273165Z",
          "iopub.status.idle": "2022-02-11T21:38:18.525932Z",
          "shell.execute_reply": "2022-02-11T21:38:18.525477Z"
        },
        "manual_grade": true,
        "manual_problem_id": "global_pop_3",
        "id": "66a7cffe"
      },
      "outputs": [],
      "source": [
        "#Fill in code here\n",
        "..."
      ]
    },
    {
      "cell_type": "markdown",
      "id": "57dc1a7e",
      "metadata": {
        "deletable": false,
        "editable": false,
        "id": "57dc1a7e"
      },
      "source": [
        "<!-- END QUESTION -->\n",
        "\n",
        "<!-- BEGIN QUESTION -->\n",
        "\n",
        "**Question 4.** Assuming everything else stays the same, do the trends in life expectancy in the graph above directly explain why the population growth rate decreased from 1985 to 2015 in Bangladesh? Why or why not?\n",
        "\n",
        "Hint: What happened in Bangladesh in 1991, and does that event explain the overall change in population growth rate? This [webpage](https://en.wikipedia.org/wiki/1991_Bangladesh_cyclone) provides relevant context.\n",
        "\n",
        "<!--\n",
        "BEGIN QUESTION\n",
        "name: q1_4\n",
        "manual: True\n",
        "-->"
      ]
    },
    {
      "cell_type": "markdown",
      "id": "9fa501dd",
      "metadata": {
        "id": "9fa501dd"
      },
      "source": [
        "_Type your answer here, replacing this text._"
      ]
    },
    {
      "cell_type": "markdown",
      "id": "7117b025",
      "metadata": {
        "deletable": false,
        "editable": false,
        "id": "7117b025"
      },
      "source": [
        "<!-- END QUESTION -->\n",
        "\n",
        "\n",
        "\n",
        "The `fertility` table contains a statistic that is often used to measure how many babies are being born, the *total fertility rate*. This number describes the [number of children a woman would have in her lifetime](https://www.measureevaluation.org/prh/rh_indicators/specific/fertility/total-fertility-rate), on average, if the current rates of birth by age of the mother persisted throughout her child bearing years, assuming she survived through age 49."
      ]
    },
    {
      "cell_type": "markdown",
      "id": "3b0e4ac4",
      "metadata": {
        "deletable": false,
        "editable": false,
        "id": "3b0e4ac4"
      },
      "source": [
        "**Question 5.** Complete the function `fertility_over_time`. It takes the Alpha-3 code of a country as `country_code` and a `start` year. It returns a two-column table with labels `Year` and `Children per woman` that can be used to generate a line chart of the country's fertility rate each year, starting at the `start` year. The plot should include the `start` year and all later years that appear in the `fertility` table.\n",
        "\n",
        "Then, determine the Alpha-3 code for Bangladesh. The code for Bangladesh and the year 1970 are used in the call to your `fertility_over_time` function in order to plot how Bangladesh's fertility rate has changed since 1970. Note that the function `fertility_over_time` should not return the plot itself. **The expression that draws the line plot is provided for you; please don't change it.**\n",
        "\n",
        "<!--\n",
        "BEGIN QUESTION\n",
        "name: q1_5\n",
        "points:\n",
        "- 0\n",
        "- 0\n",
        "- 0\n",
        "- 0\n",
        "- 0\n",
        "- 4\n",
        "-->"
      ]
    },
    {
      "cell_type": "code",
      "execution_count": null,
      "id": "f5d176c8",
      "metadata": {
        "deletable": false,
        "execution": {
          "iopub.execute_input": "2022-02-11T21:38:18.558093Z",
          "iopub.status.busy": "2022-02-11T21:38:18.542566Z",
          "iopub.status.idle": "2022-02-11T21:38:18.803266Z",
          "shell.execute_reply": "2022-02-11T21:38:18.802826Z"
        },
        "id": "f5d176c8"
      },
      "outputs": [],
      "source": [
        "def fertility_over_time(country_code, start):\n",
        "    \"\"\"Create a two-column table that describes a country's total fertility rate each year.\"\"\"\n",
        "    country_fertility = ...\n",
        "    country_fertility_after_start = ...\n",
        "    cleaned_table = ...\n",
        "    ...\n",
        "\n",
        "bangladesh_code = ...\n",
        "fertility_over_time(bangladesh_code, 1970).plot(0, 1) # You should *not* change this line."
      ]
    },
    {
      "cell_type": "code",
      "execution_count": null,
      "id": "447e3c4e",
      "metadata": {
        "deletable": false,
        "editable": false,
        "id": "447e3c4e"
      },
      "outputs": [],
      "source": [
        "grader.check(\"q1_5\")"
      ]
    },
    {
      "cell_type": "markdown",
      "id": "c1975c8e",
      "metadata": {
        "deletable": false,
        "editable": false,
        "id": "c1975c8e"
      },
      "source": [
        "<!-- BEGIN QUESTION -->\n",
        "\n",
        "**Question 6.** Assuming everything else is constant, do the trends in fertility in the graph above help directly explain why the population growth rate decreased from 1980 to 2020 in Bangladesh? Why or why not?\n",
        "\n",
        "<!--\n",
        "BEGIN QUESTION\n",
        "name: q1_6\n",
        "manual: True\n",
        "-->"
      ]
    },
    {
      "cell_type": "markdown",
      "id": "d78042c5",
      "metadata": {
        "id": "d78042c5"
      },
      "source": [
        "_Type your answer here, replacing this text._"
      ]
    },
    {
      "cell_type": "markdown",
      "id": "99aa7014",
      "metadata": {
        "deletable": false,
        "id": "99aa7014"
      },
      "source": [
        "<!-- END QUESTION -->\n",
        "\n",
        "\n",
        "\n",
        "It has been [observed](https://www.ageing.ox.ac.uk/download/143) that lower fertility rates are often associated with lower child mortality rates. The link has been attributed to family planning: if parents can expect that their children will all survive into adulthood, then they will choose to have fewer children. In the reverse direction, having fewer children may allow families to devote more resources to each child, reducing child mortality. We can see if this association is evident in Bangladesh by plotting the relationship between total fertility rate and [child mortality rate per 1000 children](https://en.wikipedia.org/wiki/Child_mortality)."
      ]
    },
    {
      "cell_type": "markdown",
      "id": "603a79a9",
      "metadata": {
        "deletable": false,
        "editable": false,
        "id": "603a79a9"
      },
      "source": [
        "**Question 7.** Using both the `fertility` and `child_mortality` tables, draw a scatter diagram that has Bangladesh's total fertility on the horizontal axis and its child mortality on the vertical axis with one point for each year, starting with 1970.\n",
        "\n",
        "**The code that draws the scatter diagram is provided for you; please don't change it.** Instead, create a table called `post_1969_fertility_and_child_mortality` with the appropriate column labels and data in order to generate the chart correctly. Use the label `Children per woman` to describe total fertility and the label `Child deaths per 1000 born` to describe child mortality.\n",
        "\n",
        "*Hint*: Do not drop the `time` column or you will get an error in the scatterplot in the next cell!\n",
        "\n",
        "<!--\n",
        "BEGIN QUESTION\n",
        "name: q1_7\n",
        "manual: false\n",
        "points:\n",
        "- 0\n",
        "- 0\n",
        "- 0\n",
        "- 0\n",
        "- 0\n",
        "- 0\n",
        "- 0\n",
        "- 4\n",
        "-->"
      ]
    },
    {
      "cell_type": "code",
      "execution_count": null,
      "id": "f5932088",
      "metadata": {
        "deletable": false,
        "execution": {
          "iopub.execute_input": "2022-02-11T21:38:19.202685Z",
          "iopub.status.busy": "2022-02-11T21:38:19.197443Z",
          "iopub.status.idle": "2022-02-11T21:38:19.637858Z",
          "shell.execute_reply": "2022-02-11T21:38:19.638254Z"
        },
        "id": "f5932088"
      },
      "outputs": [],
      "source": [
        "bgd_fertility = ...\n",
        "bgd_child_mortality = ...\n",
        "fertility_and_child_mortality = ...\n",
        "post_1969_fertility_and_child_mortality = ...\n",
        "\n",
        "# Don't change anything below this line!\n",
        "x_births = post_1969_fertility_and_child_mortality.column(\"Children per woman\")\n",
        "y_deaths = post_1969_fertility_and_child_mortality.column(\"Child deaths per 1000 born\")\n",
        "time_colors = post_1969_fertility_and_child_mortality.column(\"time\")\n",
        "\n",
        "plots.figure(figsize=(6,6))\n",
        "plots.scatter(x_births, y_deaths, c=time_colors, cmap=\"Blues_r\")\n",
        "plots.colorbar()\n",
        "plots.xlabel(\"Children per woman\")\n",
        "plots.ylabel(\"Child deaths per 1000 born\");"
      ]
    },
    {
      "cell_type": "code",
      "execution_count": null,
      "id": "62759998",
      "metadata": {
        "deletable": false,
        "editable": false,
        "id": "62759998"
      },
      "outputs": [],
      "source": [
        "grader.check(\"q1_7\")"
      ]
    },
    {
      "cell_type": "markdown",
      "id": "a025c9ef",
      "metadata": {
        "id": "a025c9ef"
      },
      "source": [
        "The plot above uses **color** to encode data about the `time` column from the table `post_1969_fertility_and_child_mortality`. The colors, ranging from dark blue to white, represent the passing of time between the 1970s to the 2020s. For example, a point on the scatter plot representing data from the 1970s would appear as **dark blue** and a point from the 2010s would appear as **light blue**.\n"
      ]
    },
    {
      "cell_type": "markdown",
      "id": "9d8cdb01",
      "metadata": {
        "deletable": false,
        "editable": false,
        "id": "9d8cdb01"
      },
      "source": [
        "<!-- BEGIN QUESTION -->\n",
        "\n",
        "**Question 8.** In one or two sentences, describe the association (if any) that is illustrated by this scatter diagram. Does the diagram show that reduced child mortality *causes* parents to choose to have fewer children?\n",
        "\n",
        "<!--\n",
        "BEGIN QUESTION\n",
        "name: q1_8\n",
        "manual: True\n",
        "-->"
      ]
    },
    {
      "cell_type": "markdown",
      "id": "3372362f",
      "metadata": {
        "id": "3372362f"
      },
      "source": [
        "_Type your answer here, replacing this text._"
      ]
    },
    {
      "cell_type": "markdown",
      "id": "2db0c910",
      "metadata": {
        "id": "2db0c910"
      },
      "source": [
        "<!-- END QUESTION -->\n",
        "\n",
        "\n",
        "\n",
        "<img src=\"https://github.com/mileskent/CIS151PartnerProject1/blob/main/yoshi.jpg?raw=1\" alt=\"drawing\" width=\"500\"/>\n",
        "\n",
        "**WOOOHOO Yoshi and friends want to congratulate you on getting this far!**\n",
        "\n"
      ]
    },
    {
      "cell_type": "markdown",
      "id": "8b32ee63",
      "metadata": {
        "id": "8b32ee63"
      },
      "source": [
        "---\n",
        "\n",
        "To double check your work, the cell below will rerun all of the autograder tests for Section 1."
      ]
    },
    {
      "cell_type": "code",
      "execution_count": null,
      "id": "f24760a0",
      "metadata": {
        "execution": {
          "iopub.execute_input": "2022-02-11T21:38:19.697242Z",
          "iopub.status.busy": "2022-02-11T21:38:19.696434Z",
          "iopub.status.idle": "2022-02-11T21:38:20.343999Z",
          "shell.execute_reply": "2022-02-11T21:38:20.344379Z"
        },
        "id": "f24760a0"
      },
      "outputs": [],
      "source": [
        "checkpoint_tests = [\"q1_1\", \"q1_2\", \"q1_5\", \"q1_7\"]\n",
        "for test in checkpoint_tests:\n",
        "    display(grader.check(test))"
      ]
    },
    {
      "cell_type": "markdown",
      "id": "1e552b41",
      "metadata": {
        "deletable": false,
        "id": "1e552b41"
      },
      "source": [
        "### The World\n",
        "\n",
        "The change observed in Bangladesh since 1970 can also be observed in many other developing countries: health services improve, life expectancy increases, and child mortality decreases. At the same time, the fertility rate often plummets, and so the population growth rate decreases despite increasing longevity."
      ]
    },
    {
      "cell_type": "markdown",
      "id": "0e484187",
      "metadata": {
        "deletable": false,
        "id": "0e484187"
      },
      "source": [
        "Run the cell below to generate two overlaid histograms, one for 1962 and one for 2010, that show the distributions of total fertility rates for these two years among all 201 countries in the `fertility` table."
      ]
    },
    {
      "cell_type": "code",
      "execution_count": null,
      "id": "8820d62f",
      "metadata": {
        "deletable": false,
        "execution": {
          "iopub.execute_input": "2022-02-11T21:38:20.467859Z",
          "iopub.status.busy": "2022-02-11T21:38:20.462586Z",
          "iopub.status.idle": "2022-02-11T21:38:21.257170Z",
          "shell.execute_reply": "2022-02-11T21:38:21.256711Z"
        },
        "id": "8820d62f"
      },
      "outputs": [],
      "source": [
        "Table().with_columns(\n",
        "    '1962', fertility.where('time', 1962).column(2),\n",
        "    '2010', fertility.where('time', 2010).column(2)\n",
        ").hist(bins=np.arange(0, 10, 0.5), unit='child per woman')\n",
        "_ = plots.xlabel('Children per woman')\n",
        "_ = plots.ylabel('Percent per children per woman')\n",
        "_ = plots.xticks(np.arange(10))"
      ]
    },
    {
      "cell_type": "markdown",
      "id": "d0e74e47",
      "metadata": {
        "deletable": false,
        "editable": false,
        "id": "d0e74e47"
      },
      "source": [
        "**Question 9.** Assign `fertility_statements` to an array of the numbers of each statement below that can be correctly inferred from these histograms.\n",
        "\n",
        "1. About the same number of countries had a fertility rate between 3.5 and 4.5 in both 1962 and 2010.\n",
        "1. In 1962, less than 20% of countries had a fertility rate below 3.\n",
        "1. At least half of countries had a fertility rate between 5 and 8 in 1962.\n",
        "1. In 2010, about 40% of countries had a fertility rate between 1.5 and 2.\n",
        "1. At least half of countries had a fertility rate below 3 in 2010.\n",
        "1. More countries had a fertility rate above 3 in 1962 than in 2010.\n",
        "\n",
        "<!--\n",
        "BEGIN QUESTION\n",
        "name: q1_9\n",
        "points:\n",
        "- 0\n",
        "- 4\n",
        "-->"
      ]
    },
    {
      "cell_type": "code",
      "execution_count": null,
      "id": "6d910c02",
      "metadata": {
        "deletable": false,
        "execution": {
          "iopub.execute_input": "2022-02-11T21:38:21.261403Z",
          "iopub.status.busy": "2022-02-11T21:38:21.260856Z",
          "iopub.status.idle": "2022-02-11T21:38:21.262975Z",
          "shell.execute_reply": "2022-02-11T21:38:21.263382Z"
        },
        "id": "6d910c02"
      },
      "outputs": [],
      "source": [
        "fertility_statements = ..."
      ]
    },
    {
      "cell_type": "code",
      "execution_count": null,
      "id": "9a69c883",
      "metadata": {
        "deletable": false,
        "editable": false,
        "id": "9a69c883"
      },
      "outputs": [],
      "source": [
        "grader.check(\"q1_9\")"
      ]
    },
    {
      "cell_type": "markdown",
      "id": "19297c47",
      "metadata": {
        "deletable": false,
        "editable": false,
        "id": "19297c47"
      },
      "source": [
        "<!-- BEGIN QUESTION -->\n",
        "\n",
        "**Question 10.** Draw a line plot of the world population from 1800 through 2020 (inclusive of both endpoints). The world population is the sum of all of the countries' populations. You should use the `population` table defined earlier in the project.\n",
        "\n",
        "<!--\n",
        "BEGIN QUESTION\n",
        "name: q1_10\n",
        "manual: True\n",
        "-->"
      ]
    },
    {
      "cell_type": "code",
      "execution_count": null,
      "id": "f59ce8a2",
      "metadata": {
        "deletable": false,
        "execution": {
          "iopub.execute_input": "2022-02-11T21:38:21.312328Z",
          "iopub.status.busy": "2022-02-11T21:38:21.311804Z",
          "iopub.status.idle": "2022-02-11T21:38:22.554797Z",
          "shell.execute_reply": "2022-02-11T21:38:22.554315Z"
        },
        "manual_grade": true,
        "manual_problem_id": "global_pop_10",
        "id": "f59ce8a2"
      },
      "outputs": [],
      "source": [
        "#Fill in code here\n",
        "..."
      ]
    },
    {
      "cell_type": "markdown",
      "id": "3d7e286b",
      "metadata": {
        "deletable": false,
        "editable": false,
        "id": "3d7e286b"
      },
      "source": [
        "<!-- END QUESTION -->\n",
        "\n",
        "**Question 11.** Create a function `stats_for_year` that takes a `year` and returns a table of statistics. The table it returns should have four columns: `geo`, `population_total`, `children_per_woman_total_fertility`, and `child_mortality_under_5_per_1000_born`. Each row should contain one unique Alpha-3 country code and three statistics: population, fertility rate, and child mortality for that `year` from the `population`, `fertility` and `child_mortality` tables. Only include rows for which all three statistics are available for the country and year.\n",
        "\n",
        "In addition, restrict the result to country codes that appears in `big_50`, an array of the 50 most populous countries in 2020. This restriction will speed up computations later in the project.\n",
        "\n",
        "After you write `stats_for_year`, try calling `stats_for_year` on any year between 1960 and 2020. Try to understand the output of stats_for_year.\n",
        "\n",
        "*Hint*: The tests for this question are quite comprehensive, so if you pass the tests, your function is probably correct. However, without calling your function yourself and looking at the output, it will be very difficult to understand any problems you have, so try your best to write the function correctly and check that it works before you rely on the `grader` tests to confirm your work.\n",
        "\n",
        "*Hint*: What do all three tables have in common (pay attention to column names)?\n",
        "\n",
        "<!--\n",
        "BEGIN QUESTION\n",
        "name: q1_11\n",
        "manual: false\n",
        "points:\n",
        "- 0\n",
        "- 0\n",
        "- 0\n",
        "- 4\n",
        "-->"
      ]
    },
    {
      "cell_type": "code",
      "execution_count": null,
      "id": "bec408a1",
      "metadata": {
        "deletable": false,
        "execution": {
          "iopub.execute_input": "2022-02-11T21:38:22.593737Z",
          "iopub.status.busy": "2022-02-11T21:38:22.573172Z",
          "iopub.status.idle": "2022-02-11T21:38:23.542260Z",
          "shell.execute_reply": "2022-02-11T21:38:23.542645Z"
        },
        "id": "bec408a1"
      },
      "outputs": [],
      "source": [
        "# We first create a population table that only includes the\n",
        "# 50 countries with the largest 2020 populations. We focus on\n",
        "# these 50 countries only so that plotting later will run faster.\n",
        "big_50 = population.where('time', are.equal_to(2020)).sort(\"population_total\", descending=True).take(np.arange(50)).column('geo')\n",
        "population_of_big_50 = population.where('time', are.above(1959)).where('geo', are.contained_in(big_50))\n",
        "\n",
        "def stats_for_year(year):\n",
        "    \"\"\"Return a table of the stats for each country that year.\"\"\"\n",
        "    p = population_of_big_50.where('time', are.equal_to(year)).drop('time')\n",
        "    f = fertility.where('time', are.equal_to(year)).drop('time')\n",
        "    c = child_mortality.where('time', are.equal_to(year)).drop('time')\n",
        "    ...\n",
        "\n",
        "..."
      ]
    },
    {
      "cell_type": "code",
      "execution_count": null,
      "id": "36753b25",
      "metadata": {
        "deletable": false,
        "editable": false,
        "id": "36753b25"
      },
      "outputs": [],
      "source": [
        "grader.check(\"q1_11\")"
      ]
    },
    {
      "cell_type": "markdown",
      "id": "a786b166",
      "metadata": {
        "deletable": false,
        "editable": false,
        "id": "a786b166"
      },
      "source": [
        "**Question 12.** Create a table called `pop_by_decade` with two columns called `decade` and `population`, in this order. It has a row for each year that starts a decade, in increasing order starting with 1960 and ending with 2020. For example, 1960 is the start of the 1960's decade. The `population` column contains the total population of all countries included in the result of `stats_for_year(year)` for the first `year` of the decade. You should see that these countries contain most of the world's population.\n",
        "\n",
        "*Hint:* One approach is to define a function `pop_for_year` that computes this total population, then `apply` it to the `decade` column.  The `stats_for_year` function from the previous question may be useful here.\n",
        "\n",
        "This first test is just a sanity check for your helper function if you choose to use it. You will not lose points for not implementing the function `pop_for_year`.\n",
        "\n",
        "**Note:** The cell where you will generate the `pop_by_decade` table is below the cell where you can choose to define the helper function `pop_for_year`. You should define your `pop_by_decade` table in the cell that starts with the table `decades` being defined.\n",
        "\n",
        "<!--\n",
        "BEGIN QUESTION\n",
        "name: q1_12_0\n",
        "manual: false\n",
        "points:\n",
        "- 0\n",
        "- 0\n",
        "- 0\n",
        "- 0\n",
        "-->"
      ]
    },
    {
      "cell_type": "code",
      "execution_count": null,
      "id": "e6679d52",
      "metadata": {
        "execution": {
          "iopub.execute_input": "2022-02-11T21:38:25.870481Z",
          "iopub.status.busy": "2022-02-11T21:38:25.870009Z",
          "iopub.status.idle": "2022-02-11T21:38:25.872726Z",
          "shell.execute_reply": "2022-02-11T21:38:25.872213Z"
        },
        "id": "e6679d52"
      },
      "outputs": [],
      "source": [
        "def pop_for_year(year):\n",
        "    \"\"\"Return the total population for the specified year.\"\"\"\n",
        "    ..."
      ]
    },
    {
      "cell_type": "code",
      "execution_count": null,
      "id": "9b1374a1",
      "metadata": {
        "deletable": false,
        "editable": false,
        "id": "9b1374a1"
      },
      "outputs": [],
      "source": [
        "grader.check(\"q1_12_0\")"
      ]
    },
    {
      "cell_type": "markdown",
      "id": "a866ad08",
      "metadata": {
        "deletable": false,
        "editable": false,
        "id": "a866ad08"
      },
      "source": [
        "Now that you've defined your helper function (if you've chosen to do so), define the `pop_by_decade` table.\n",
        "\n",
        "<!--\n",
        "BEGIN QUESTION\n",
        "name: q1_12\n",
        "manual: false\n",
        "points:\n",
        "- 0\n",
        "- 0\n",
        "- 0\n",
        "- 0\n",
        "- 0\n",
        "- 0\n",
        "- 4\n",
        "-->"
      ]
    },
    {
      "cell_type": "code",
      "execution_count": null,
      "id": "ad0d1def",
      "metadata": {
        "deletable": false,
        "execution": {
          "iopub.execute_input": "2022-02-11T21:38:28.203477Z",
          "iopub.status.busy": "2022-02-11T21:38:28.191281Z",
          "iopub.status.idle": "2022-02-11T21:38:31.958019Z",
          "shell.execute_reply": "2022-02-11T21:38:31.958371Z"
        },
        "id": "ad0d1def"
      },
      "outputs": [],
      "source": [
        "decades = Table().with_column('decade', np.arange(1960, 2021, 10))\n",
        "\n",
        "pop_by_decade = ...\n",
        "pop_by_decade.set_format(1, NumberFormatter)"
      ]
    },
    {
      "cell_type": "code",
      "execution_count": null,
      "id": "d75ef763",
      "metadata": {
        "deletable": false,
        "editable": false,
        "id": "d75ef763"
      },
      "outputs": [],
      "source": [
        "grader.check(\"q1_12\")"
      ]
    },
    {
      "cell_type": "markdown",
      "id": "985e2d7c",
      "metadata": {
        "deletable": false,
        "editable": false,
        "id": "985e2d7c"
      },
      "source": [
        "The `countries` table describes various characteristics of countries. The `country` column contains the same codes as the `geo` column in each of the other data tables (`population`, `fertility`, and `child_mortality`). The `world_6region` column classifies each country into a region of the world. Run the cell below to inspect the data."
      ]
    },
    {
      "cell_type": "code",
      "execution_count": null,
      "id": "cd17e023",
      "metadata": {
        "execution": {
          "iopub.execute_input": "2022-02-11T21:38:32.007755Z",
          "iopub.status.busy": "2022-02-11T21:38:32.005713Z",
          "iopub.status.idle": "2022-02-11T21:38:32.983819Z",
          "shell.execute_reply": "2022-02-11T21:38:32.983066Z"
        },
        "id": "cd17e023"
      },
      "outputs": [],
      "source": [
        "countries = Table.read_table('countries.csv').where('country', are.contained_in(population.group('geo').column('geo')))\n",
        "countries.select('country', 'name', 'world_6region')"
      ]
    },
    {
      "cell_type": "markdown",
      "id": "dc818657",
      "metadata": {
        "deletable": false,
        "editable": false,
        "id": "dc818657"
      },
      "source": [
        "**Question 13.** Create a table called `region_counts`. It should contain two columns called `region` and `count`. The `region` column should contain regions of the world, and the `count` column should contain the number of countries in each region that appears in the result of `stats_for_year(2020)`.\n",
        "\n",
        "For example, one row would have `south_asia` as its `region` value and an integer as its `count` value: the number of large South Asian countries for which we have population, fertility, and child mortality numbers from 2020.\n",
        "\n",
        "*Hint*: You may have to relabel a column to name it `region`.\n",
        "\n",
        "<!--\n",
        "BEGIN QUESTION\n",
        "name: q1_13\n",
        "points:\n",
        "- 0\n",
        "- 0\n",
        "- 0\n",
        "- 4\n",
        "-->"
      ]
    },
    {
      "cell_type": "code",
      "execution_count": null,
      "id": "cd057a29",
      "metadata": {
        "deletable": false,
        "execution": {
          "iopub.execute_input": "2022-02-11T21:38:32.997398Z",
          "iopub.status.busy": "2022-02-11T21:38:32.992196Z",
          "iopub.status.idle": "2022-02-11T21:38:33.630705Z",
          "shell.execute_reply": "2022-02-11T21:38:33.630079Z"
        },
        "id": "cd057a29"
      },
      "outputs": [],
      "source": [
        "stats_for_2020 = ...\n",
        "region_counts = ...\n",
        "region_counts"
      ]
    },
    {
      "cell_type": "code",
      "execution_count": null,
      "id": "7d7ab847",
      "metadata": {
        "deletable": false,
        "editable": false,
        "id": "7d7ab847"
      },
      "outputs": [],
      "source": [
        "grader.check(\"q1_13\")"
      ]
    },
    {
      "cell_type": "markdown",
      "id": "1797d8a6",
      "metadata": {
        "deletable": false,
        "id": "1797d8a6"
      },
      "source": [
        "The following scatter diagram compares total fertility rate and child mortality rate for each country in 1960. The area of each dot represents the population of the country, and the color represents its region of the world. Run the cell. Do you think you can identify any of the dots?"
      ]
    },
    {
      "cell_type": "code",
      "execution_count": null,
      "id": "87702919",
      "metadata": {
        "deletable": false,
        "execution": {
          "iopub.execute_input": "2022-02-11T21:38:33.690120Z",
          "iopub.status.busy": "2022-02-11T21:38:33.687244Z",
          "iopub.status.idle": "2022-02-11T21:38:34.563870Z",
          "shell.execute_reply": "2022-02-11T21:38:34.564279Z"
        },
        "id": "87702919"
      },
      "outputs": [],
      "source": [
        "from functools import lru_cache as cache\n",
        "\n",
        "# This cache annotation makes sure that if the same year\n",
        "# is passed as an argument twice, the work of computing\n",
        "# the result is only carried out once.\n",
        "@cache(None)\n",
        "def stats_relabeled(year):\n",
        "    \"\"\"Relabeled and cached version of stats_for_year.\"\"\"\n",
        "    return stats_for_year(year).relabel(2, 'Children per woman').relabel(3, 'Child deaths per 1000 born')\n",
        "\n",
        "def fertility_vs_child_mortality(year):\n",
        "    \"\"\"Draw a color scatter diagram comparing child mortality and fertility.\"\"\"\n",
        "    with_region = stats_relabeled(year).join('geo', countries.select('country', 'world_6region'), 'country')\n",
        "    with_region.scatter(2, 3, sizes=1, group=4, s=500)\n",
        "    plots.xlim(0,10)\n",
        "    plots.ylim(-50, 500)\n",
        "    plots.title(year)\n",
        "    plots.show()\n",
        "\n",
        "fertility_vs_child_mortality(1960)"
      ]
    },
    {
      "cell_type": "markdown",
      "id": "d9e577e6",
      "metadata": {
        "deletable": false,
        "editable": false,
        "id": "d9e577e6"
      },
      "source": [
        "**Question 14.** Assign `scatter_statements` to an array of the numbers of each statement below that can be inferred from this scatter diagram for 1960.\n",
        "1. As a whole, the `europe_central_asia` region had the lowest child mortality rate.\n",
        "1. The lowest child mortality rate of any country was from an `east_asia_pacific` country.\n",
        "1. Most countries had a fertility rate above 5.\n",
        "1. There was an association between child mortality and fertility.\n",
        "1. The two largest countries by population also had the two highest child mortality rates.\n",
        "\n",
        "<!--\n",
        "BEGIN QUESTION\n",
        "name: q1_14\n",
        "points:\n",
        "- 0\n",
        "- 4\n",
        "-->"
      ]
    },
    {
      "cell_type": "code",
      "execution_count": null,
      "id": "edc80f10",
      "metadata": {
        "deletable": false,
        "execution": {
          "iopub.execute_input": "2022-02-11T21:38:34.568308Z",
          "iopub.status.busy": "2022-02-11T21:38:34.567863Z",
          "iopub.status.idle": "2022-02-11T21:38:34.570068Z",
          "shell.execute_reply": "2022-02-11T21:38:34.570631Z"
        },
        "id": "edc80f10"
      },
      "outputs": [],
      "source": [
        "scatter_statements = ..."
      ]
    },
    {
      "cell_type": "code",
      "execution_count": null,
      "id": "b388cb14",
      "metadata": {
        "deletable": false,
        "editable": false,
        "id": "b388cb14"
      },
      "outputs": [],
      "source": [
        "grader.check(\"q1_14\")"
      ]
    },
    {
      "cell_type": "markdown",
      "id": "2cc7bf0d",
      "metadata": {
        "deletable": false,
        "editable": false,
        "id": "2cc7bf0d"
      },
      "source": [
        "---\n",
        "\n",
        "To double-check your work, the cell below will rerun all of the autograder tests."
      ]
    },
    {
      "cell_type": "code",
      "execution_count": null,
      "id": "939f59b0",
      "metadata": {
        "deletable": false,
        "editable": false,
        "id": "939f59b0"
      },
      "outputs": [],
      "source": [
        "grader.check_all()"
      ]
    },
    {
      "cell_type": "markdown",
      "id": "4e5a0c73",
      "metadata": {
        "deletable": false,
        "editable": false,
        "id": "4e5a0c73"
      },
      "source": [
        "## Submission\n",
        "\n",
        "Make sure you have run all cells in your notebook in order before running the cell below, so that all images/graphs appear in the output. The cell below will generate a zip file for you to submit. **Please save before exporting!**"
      ]
    },
    {
      "cell_type": "code",
      "execution_count": null,
      "id": "2218958b",
      "metadata": {
        "deletable": false,
        "editable": false,
        "id": "2218958b"
      },
      "outputs": [],
      "source": [
        "**Important submission steps:**\n",
        "1. Run the tests and verify that they all pass.\n",
        "2. Choose **Download** from the **File** menu.\n",
        "3. Choose **Download .ipynb**.\n",
        "4. Rename the file project1_Partner1LastName_Partner2LastName.ipynb\n",
        "4. Then submit the .ipynb file to the corresponding assignment submission box on Canvas.\n",
        "5. Only one partner needs to submit."
      ]
    },
    {
      "cell_type": "markdown",
      "id": "acb1d2d1",
      "metadata": {
        "id": "acb1d2d1"
      },
      "source": [
        ""
      ]
    }
  ],
  "metadata": {
    "kernelspec": {
      "display_name": "Python 3 (ipykernel)",
      "language": "python",
      "name": "python3"
    },
    "language_info": {
      "codemirror_mode": {
        "name": "ipython",
        "version": 3
      },
      "file_extension": ".py",
      "mimetype": "text/x-python",
      "name": "python",
      "nbconvert_exporter": "python",
      "pygments_lexer": "ipython3",
      "version": "3.9.13"
    },
    "colab": {
      "provenance": []
    }
  },
  "nbformat": 4,
  "nbformat_minor": 5
}